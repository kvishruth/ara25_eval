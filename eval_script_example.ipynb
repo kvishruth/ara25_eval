{
 "cells": [
  {
   "cell_type": "code",
   "execution_count": 8,
   "metadata": {},
   "outputs": [],
   "source": [
    "import os\n",
    "import pickle\n",
    "import sys\n",
    "import time\n",
    "import eval_script as ev\n",
    "import networkx as nx\n",
    "import numpy as np\n",
    "import ast"
   ]
  },
  {
   "cell_type": "code",
   "execution_count": 3,
   "metadata": {},
   "outputs": [],
   "source": [
    "with open('datasets/pareto_front_osdpm.pickle', 'rb') as f:\n",
    "        pareto_front = pickle.load(f)\n",
    "with open('datasets/graph_dict_osdpm.pickle', 'rb') as f:\n",
    "        graph = pickle.load(f)"
   ]
  },
  {
   "cell_type": "code",
   "execution_count": null,
   "metadata": {},
   "outputs": [],
   "source": [
    "file_path = 'solutions/solutions_instance_0.txt'  # Replace with your file path\n",
    "solutions = []\n",
    "\n",
    "\n",
    "# Open the file and process line by line\n",
    "with open(file_path, 'r') as file:\n",
    "    lines = file.readlines()  # Read all lines into a list\n",
    "for line in lines:\n",
    "    line = line.strip()  # Clean whitespace\n",
    "\n",
    "    # Safely parse the tuple/list structure\n",
    "    try:\n",
    "        parsed_data = ast.literal_eval(line)\n",
    "    except (ValueError, SyntaxError) as e:\n",
    "        print(f\"Skipping line due to parsing error: {e}\")\n",
    "        continue\n",
    "\n",
    "    if not (isinstance(parsed_data, tuple) and len(parsed_data) == 2):\n",
    "        print(f\"Skipping malformed line: {parsed_data}\")\n",
    "        continue\n",
    "\n",
    "    sol_cost, sol_path = parsed_data\n",
    "\n",
    "    solutions.append((sol_cost, sol_path))\n"
   ]
  },
  {
   "cell_type": "code",
   "execution_count": 10,
   "metadata": {},
   "outputs": [],
   "source": [
    "pareto_found = 0\n",
    "total_time = 0\n",
    "exact_path_matches = 0\n",
    "\n",
    "for instance in pareto_front:\n",
    "\n",
    "    undominated_not_in_pareto = []\n",
    "    valid_solutions= []\n",
    "    invalid_paths = []\n",
    "\n",
    "    node_a = instance['source']\n",
    "    node_b = instance['target']\n",
    "    pareto_set = instance['pareto_set']\n",
    "\n",
    "    # extract pareto costs and paths\n",
    "    pareto_costs = [cost for cost, _ in pareto_set]\n",
    "    pareto_paths = [path for _, path in pareto_set]\n",
    "\n",
    "    # run algorithm and time it\n",
    "    #start_time = time.time()\n",
    "    #solutions = algorithm(graph, node_a, node_b)\n",
    "    #elapsed = time.time() - start_time\n",
    "    #total_time += elapsed\n",
    "\n",
    "    for sol_cost, sol_path in solutions:\n",
    "\n",
    "        # check if path is valid and adheres to graph structure\n",
    "        if not ev.is_valid_path(graph, sol_path):\n",
    "            invalid_paths.append(sol_path)\n",
    "            continue\n",
    "        valid_solutions.append((sol_cost, sol_path))\n",
    "\n",
    "        # recalculate costs to validate cost matches graph data\n",
    "        calc_costs = [0, 0, 0, 0]\n",
    "        valid = True\n",
    "\n",
    "        for i in range(len(sol_path) - 1):\n",
    "            u, v = sol_path[i], sol_path[i + 1]\n",
    "            if v not in graph.get(u, {}):\n",
    "                valid = False\n",
    "                break\n",
    "            edge_costs = graph[u][v]  \n",
    "            for j in range(4):\n",
    "                calc_costs[j] += edge_costs[j]\n",
    "\n",
    "        if not valid or not all(abs(calc_costs[i] - sol_cost[i]) < 1e-5 for i in range(4)):\n",
    "            continue \n",
    "\n",
    "        # path match check\n",
    "        if sol_path in pareto_paths:\n",
    "            exact_path_matches += 1\n",
    "\n",
    "        # check for exact cost match \n",
    "        if sol_cost in pareto_costs:\n",
    "            pareto_found += 1\n",
    "        else:\n",
    "            # dominance check\n",
    "            undominated = True\n",
    "            for pareto_cost in pareto_costs:\n",
    "                if all(p <= s for p, s in zip(pareto_cost, sol_cost)) and any(p < s for p, s in zip(pareto_cost, sol_cost)):\n",
    "                    undominated = False\n",
    "                    break\n",
    "\n",
    "            if undominated:\n",
    "                pareto_found += 1\n",
    "                # dump solutions not found in pareto front but undominated\n",
    "                undominated_not_in_pareto.append((sol_cost, sol_path))\n"
   ]
  },
  {
   "cell_type": "code",
   "execution_count": 12,
   "metadata": {},
   "outputs": [
    {
     "data": {
      "text/plain": [
       "1000"
      ]
     },
     "execution_count": 12,
     "metadata": {},
     "output_type": "execute_result"
    }
   ],
   "source": [
    "len(undominated_not_in_pareto)"
   ]
  },
  {
   "cell_type": "code",
   "execution_count": 13,
   "metadata": {},
   "outputs": [
    {
     "data": {
      "text/plain": [
       "1"
      ]
     },
     "execution_count": 13,
     "metadata": {},
     "output_type": "execute_result"
    }
   ],
   "source": [
    "exact_path_matches"
   ]
  },
  {
   "cell_type": "code",
   "execution_count": null,
   "metadata": {},
   "outputs": [],
   "source": []
  }
 ],
 "metadata": {
  "kernelspec": {
   "display_name": "rl",
   "language": "python",
   "name": "python3"
  },
  "language_info": {
   "codemirror_mode": {
    "name": "ipython",
    "version": 3
   },
   "file_extension": ".py",
   "mimetype": "text/x-python",
   "name": "python",
   "nbconvert_exporter": "python",
   "pygments_lexer": "ipython3",
   "version": "3.11.10"
  }
 },
 "nbformat": 4,
 "nbformat_minor": 2
}
